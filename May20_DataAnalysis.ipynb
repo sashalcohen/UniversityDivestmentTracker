{
 "cells": [
  {
   "cell_type": "markdown",
   "id": "258f02bc",
   "metadata": {},
   "source": [
    "This project uses manually collected data to assess the effectiveness of student protests and encampments at colleges and universities at achieving student demands—namely, divestment of university endowments from companies that do business with Israel. "
   ]
  },
  {
   "cell_type": "code",
   "execution_count": 1,
   "id": "baf650cb",
   "metadata": {},
   "outputs": [],
   "source": [
    "## import pandas\n",
    "\n",
    "import pandas"
   ]
  },
  {
   "cell_type": "markdown",
   "id": "c66eaad1",
   "metadata": {},
   "source": [
    "KEY FOR UNIV. RESPONSE\n",
    "\n",
    "NA: The university has not acknowledged student calls for divestment\n",
    "R: The university has rejected student calls for divestment since the encampments began in mid April \n",
    "R*: The university has not made statements since April 2024 regarding divestment but had stated before then that they will not divest from Israel \n",
    "N: The university has said they will continue discussing or reviewing demands with students, but has not made any explicit steps towards divestment \n",
    "F: The university has made concrete steps towards future divestment including setting dates for meetings or votes\n",
    "P: The university has agreed to partially meet student demands for divestment i.e. to divest from weapons manufacturers but not all Israeli companies"
   ]
  },
  {
   "cell_type": "code",
   "execution_count": null,
   "id": "cc3c301c",
   "metadata": {},
   "outputs": [],
   "source": [
    "## read CSV file\n",
    "\n",
    "## divest_df = pd.read_csv(\"\")\n",
    "## divest_df.head()"
   ]
  },
  {
   "cell_type": "code",
   "execution_count": null,
   "id": "500a9b53",
   "metadata": {},
   "outputs": [],
   "source": [
    "## divest_response_pct = \n",
    "## group by column name 'university response'\n",
    "## count values\n",
    "## "
   ]
  },
  {
   "cell_type": "code",
   "execution_count": null,
   "id": "173a5e2c",
   "metadata": {},
   "outputs": [],
   "source": [
    "## Create Dataframes isolating public and private universities\n",
    "## df_public = divest_df.query('Type == \"Public\"')\n",
    "## df_private = divest_df.query('Type == \"Private\"')\n",
    "\n"
   ]
  }
 ],
 "metadata": {
  "kernelspec": {
   "display_name": "Python 3 (ipykernel)",
   "language": "python",
   "name": "python3"
  },
  "language_info": {
   "codemirror_mode": {
    "name": "ipython",
    "version": 3
   },
   "file_extension": ".py",
   "mimetype": "text/x-python",
   "name": "python",
   "nbconvert_exporter": "python",
   "pygments_lexer": "ipython3",
   "version": "3.11.5"
  }
 },
 "nbformat": 4,
 "nbformat_minor": 5
}
